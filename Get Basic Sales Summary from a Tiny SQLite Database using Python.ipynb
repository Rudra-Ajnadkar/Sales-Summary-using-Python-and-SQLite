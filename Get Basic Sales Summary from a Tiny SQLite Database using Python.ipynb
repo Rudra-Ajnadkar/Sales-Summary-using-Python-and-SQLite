{
 "cells": [
  {
   "cell_type": "markdown",
   "id": "b9a8e024",
   "metadata": {},
   "source": [
    "# Create SQLite Database and Insert Sample Sales Data\n"
   ]
  },
  {
   "cell_type": "code",
   "execution_count": 21,
   "id": "4962aa0e",
   "metadata": {},
   "outputs": [],
   "source": [
    "import sqlite3"
   ]
  },
  {
   "cell_type": "code",
   "execution_count": 22,
   "id": "bbe6eb33",
   "metadata": {},
   "outputs": [],
   "source": [
    "# connect  to the database\n",
    "conn=sqlite3.connect(\"sales_data.db\")\n",
    "cursor=conn.cursor()"
   ]
  },
  {
   "cell_type": "code",
   "execution_count": 23,
   "id": "b5580e32",
   "metadata": {},
   "outputs": [
    {
     "data": {
      "text/plain": [
       "<sqlite3.Cursor at 0x1bf9c4b0b40>"
      ]
     },
     "execution_count": 23,
     "metadata": {},
     "output_type": "execute_result"
    }
   ],
   "source": [
    "# create a sales table\n",
    "cursor.execute(''' \n",
    "CREATE TABLE IF NOT EXISTS Sales(\n",
    "order_id INTEGER PRIMARY KEY,\n",
    "product TEXT,\n",
    "quantity INTEGER,\n",
    "price REAL\n",
    ")\n",
    "''')"
   ]
  },
  {
   "cell_type": "code",
   "execution_count": 24,
   "id": "3efa5a11",
   "metadata": {},
   "outputs": [],
   "source": [
    "# Insert sample data\n",
    "sample_data = [\n",
    "    ('Chocolate', 10, 5.0),\n",
    "    ('Biscuits', 20, 2.0),\n",
    "    ('Chips', 15, 3.5),\n",
    "    ('Chocolate', 5, 5.0),\n",
    "    ('Biscuits', 10, 2.0)\n",
    "]\n",
    "cursor.executemany('INSERT INTO sales (product, quantity, price) VALUES (?, ?, ?)', sample_data)\n",
    "\n",
    "conn.commit()\n",
    "conn.close()"
   ]
  },
  {
   "cell_type": "markdown",
   "id": "14af67e9",
   "metadata": {},
   "source": [
    "#  Query the Data Using SQL in Python"
   ]
  },
  {
   "cell_type": "code",
   "execution_count": 25,
   "id": "f4c79104",
   "metadata": {},
   "outputs": [],
   "source": [
    "import sqlite3\n",
    "import pandas as pd"
   ]
  },
  {
   "cell_type": "code",
   "execution_count": 26,
   "id": "9fd9cb8a",
   "metadata": {},
   "outputs": [],
   "source": [
    "# Connect to the database\n",
    "conn = sqlite3.connect('sales_data.db')"
   ]
  },
  {
   "cell_type": "code",
   "execution_count": 27,
   "id": "e2303527",
   "metadata": {},
   "outputs": [],
   "source": [
    "# SQL query to get total quantity and revenue per product\n",
    "query = \"\"\"\n",
    "SELECT \n",
    "    product,\n",
    "    SUM(quantity) AS total_qty,\n",
    "    SUM(quantity * price) AS revenue\n",
    "FROM sales\n",
    "GROUP BY product\n",
    "\"\"\""
   ]
  },
  {
   "cell_type": "code",
   "execution_count": 28,
   "id": "687f8354",
   "metadata": {},
   "outputs": [],
   "source": [
    "# Run the query and load results into a DataFrame\n",
    "df = pd.read_sql_query(query, conn)\n",
    "\n"
   ]
  },
  {
   "cell_type": "code",
   "execution_count": 29,
   "id": "1192dad0",
   "metadata": {},
   "outputs": [],
   "source": [
    "# Close the database connection\n",
    "conn.close()\n"
   ]
  },
  {
   "cell_type": "markdown",
   "id": "73b368bd",
   "metadata": {},
   "source": [
    "# Display the Results"
   ]
  },
  {
   "cell_type": "code",
   "execution_count": 30,
   "id": "22bfa2b1",
   "metadata": {},
   "outputs": [
    {
     "name": "stdout",
     "output_type": "stream",
     "text": [
      "Sales Summary:\n",
      "     product  total_qty  revenue\n",
      "0   Biscites         20     40.0\n",
      "1  Biscuites         10     20.0\n",
      "2   Biscuits        120    240.0\n",
      "3      Chips         75    262.5\n",
      "4  Chocolate         70    350.0\n",
      "5  chocolate          5     25.0\n"
     ]
    }
   ],
   "source": [
    "# Print the summary table\n",
    "print(\"Sales Summary:\")\n",
    "print(df)"
   ]
  },
  {
   "cell_type": "markdown",
   "id": "e7e6047f",
   "metadata": {},
   "source": [
    "# Plot the Revenue as a Bar Chart\n"
   ]
  },
  {
   "cell_type": "code",
   "execution_count": 31,
   "id": "a863f833",
   "metadata": {},
   "outputs": [
    {
     "data": {
      "image/png": "[encoded data removed]",
      "text/plain": [
       "<Figure size 640x480 with 1 Axes>"
      ]
     },
     "metadata": {},
     "output_type": "display_data"
    }
   ],
   "source": [
    "import matplotlib.pyplot as plt\n",
    "\n",
    "# Create bar chart\n",
    "df.plot(kind='bar', x='product', y='revenue', color='skyblue')\n",
    "\n",
    "# Add labels and title\n",
    "plt.title('Revenue by Product')\n",
    "plt.xlabel('Product')\n",
    "plt.ylabel('Revenue')\n",
    "\n",
    "# Save the chart if needed\n",
    "plt.savefig(\"sales_chart.png\")\n",
    "\n",
    "# Show the plot\n",
    "plt.show()"
   ]
  },
  {
   "cell_type": "code",
   "execution_count": null,
   "id": "23795663",
   "metadata": {},
   "outputs": [],
   "source": []
  },
  {
   "cell_type": "code",
   "execution_count": null,
   "id": "8e00fb33",
   "metadata": {},
   "outputs": [],
   "source": []
  }
 ],
 "metadata": {
  "kernelspec": {
   "display_name": "Python 3 (ipykernel)",
   "language": "python",
   "name": "python3"
  },
  "language_info": {
   "codemirror_mode": {
    "name": "ipython",
    "version": 3
   },
   "file_extension": ".py",
   "mimetype": "text/x-python",
   "name": "python",
   "nbconvert_exporter": "python",
   "pygments_lexer": "ipython3",
   "version": "3.10.9"
  }
 },
 "nbformat": 4,
 "nbformat_minor": 5
}
